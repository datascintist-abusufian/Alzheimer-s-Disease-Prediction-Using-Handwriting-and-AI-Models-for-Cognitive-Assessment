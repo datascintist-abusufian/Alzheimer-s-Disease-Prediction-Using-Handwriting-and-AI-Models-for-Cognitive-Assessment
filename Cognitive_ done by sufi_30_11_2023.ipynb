{
  "nbformat": 4,
  "nbformat_minor": 0,
  "metadata": {
    "colab": {
      "provenance": []
    },
    "kernelspec": {
      "name": "python3",
      "display_name": "Python 3"
    },
    "language_info": {
      "name": "python"
    }
  },
  "cells": [
    {
      "cell_type": "code",
      "execution_count": 1,
      "metadata": {
        "colab": {
          "base_uri": "https://localhost:8080/"
        },
        "id": "yt0LK1fG_07s",
        "outputId": "c89bd697-17a3-4a7c-b386-1b7068cfc589"
      },
      "outputs": [
        {
          "output_type": "stream",
          "name": "stdout",
          "text": [
            "Requirement already satisfied: nbconvert in /usr/local/lib/python3.10/dist-packages (6.5.4)\n",
            "Requirement already satisfied: lxml in /usr/local/lib/python3.10/dist-packages (from nbconvert) (4.9.3)\n",
            "Requirement already satisfied: beautifulsoup4 in /usr/local/lib/python3.10/dist-packages (from nbconvert) (4.11.2)\n",
            "Requirement already satisfied: bleach in /usr/local/lib/python3.10/dist-packages (from nbconvert) (6.1.0)\n",
            "Requirement already satisfied: defusedxml in /usr/local/lib/python3.10/dist-packages (from nbconvert) (0.7.1)\n",
            "Requirement already satisfied: entrypoints>=0.2.2 in /usr/local/lib/python3.10/dist-packages (from nbconvert) (0.4)\n",
            "Requirement already satisfied: jinja2>=3.0 in /usr/local/lib/python3.10/dist-packages (from nbconvert) (3.1.2)\n",
            "Requirement already satisfied: jupyter-core>=4.7 in /usr/local/lib/python3.10/dist-packages (from nbconvert) (5.5.0)\n",
            "Requirement already satisfied: jupyterlab-pygments in /usr/local/lib/python3.10/dist-packages (from nbconvert) (0.2.2)\n",
            "Requirement already satisfied: MarkupSafe>=2.0 in /usr/local/lib/python3.10/dist-packages (from nbconvert) (2.1.3)\n",
            "Requirement already satisfied: mistune<2,>=0.8.1 in /usr/local/lib/python3.10/dist-packages (from nbconvert) (0.8.4)\n",
            "Requirement already satisfied: nbclient>=0.5.0 in /usr/local/lib/python3.10/dist-packages (from nbconvert) (0.9.0)\n",
            "Requirement already satisfied: nbformat>=5.1 in /usr/local/lib/python3.10/dist-packages (from nbconvert) (5.9.2)\n",
            "Requirement already satisfied: packaging in /usr/local/lib/python3.10/dist-packages (from nbconvert) (23.2)\n",
            "Requirement already satisfied: pandocfilters>=1.4.1 in /usr/local/lib/python3.10/dist-packages (from nbconvert) (1.5.0)\n",
            "Requirement already satisfied: pygments>=2.4.1 in /usr/local/lib/python3.10/dist-packages (from nbconvert) (2.16.1)\n",
            "Requirement already satisfied: tinycss2 in /usr/local/lib/python3.10/dist-packages (from nbconvert) (1.2.1)\n",
            "Requirement already satisfied: traitlets>=5.0 in /usr/local/lib/python3.10/dist-packages (from nbconvert) (5.7.1)\n",
            "Requirement already satisfied: platformdirs>=2.5 in /usr/local/lib/python3.10/dist-packages (from jupyter-core>=4.7->nbconvert) (4.0.0)\n",
            "Requirement already satisfied: jupyter-client>=6.1.12 in /usr/local/lib/python3.10/dist-packages (from nbclient>=0.5.0->nbconvert) (6.1.12)\n",
            "Requirement already satisfied: fastjsonschema in /usr/local/lib/python3.10/dist-packages (from nbformat>=5.1->nbconvert) (2.19.0)\n",
            "Requirement already satisfied: jsonschema>=2.6 in /usr/local/lib/python3.10/dist-packages (from nbformat>=5.1->nbconvert) (4.19.2)\n",
            "Requirement already satisfied: soupsieve>1.2 in /usr/local/lib/python3.10/dist-packages (from beautifulsoup4->nbconvert) (2.5)\n",
            "Requirement already satisfied: six>=1.9.0 in /usr/local/lib/python3.10/dist-packages (from bleach->nbconvert) (1.16.0)\n",
            "Requirement already satisfied: webencodings in /usr/local/lib/python3.10/dist-packages (from bleach->nbconvert) (0.5.1)\n",
            "Requirement already satisfied: attrs>=22.2.0 in /usr/local/lib/python3.10/dist-packages (from jsonschema>=2.6->nbformat>=5.1->nbconvert) (23.1.0)\n",
            "Requirement already satisfied: jsonschema-specifications>=2023.03.6 in /usr/local/lib/python3.10/dist-packages (from jsonschema>=2.6->nbformat>=5.1->nbconvert) (2023.11.1)\n",
            "Requirement already satisfied: referencing>=0.28.4 in /usr/local/lib/python3.10/dist-packages (from jsonschema>=2.6->nbformat>=5.1->nbconvert) (0.31.0)\n",
            "Requirement already satisfied: rpds-py>=0.7.1 in /usr/local/lib/python3.10/dist-packages (from jsonschema>=2.6->nbformat>=5.1->nbconvert) (0.13.0)\n",
            "Requirement already satisfied: pyzmq>=13 in /usr/local/lib/python3.10/dist-packages (from jupyter-client>=6.1.12->nbclient>=0.5.0->nbconvert) (23.2.1)\n",
            "Requirement already satisfied: python-dateutil>=2.1 in /usr/local/lib/python3.10/dist-packages (from jupyter-client>=6.1.12->nbclient>=0.5.0->nbconvert) (2.8.2)\n",
            "Requirement already satisfied: tornado>=4.1 in /usr/local/lib/python3.10/dist-packages (from jupyter-client>=6.1.12->nbclient>=0.5.0->nbconvert) (6.3.2)\n",
            "Requirement already satisfied: seaborn in /usr/local/lib/python3.10/dist-packages (0.12.2)\n",
            "Requirement already satisfied: numpy!=1.24.0,>=1.17 in /usr/local/lib/python3.10/dist-packages (from seaborn) (1.23.5)\n",
            "Requirement already satisfied: pandas>=0.25 in /usr/local/lib/python3.10/dist-packages (from seaborn) (1.5.3)\n",
            "Requirement already satisfied: matplotlib!=3.6.1,>=3.1 in /usr/local/lib/python3.10/dist-packages (from seaborn) (3.7.1)\n",
            "Requirement already satisfied: contourpy>=1.0.1 in /usr/local/lib/python3.10/dist-packages (from matplotlib!=3.6.1,>=3.1->seaborn) (1.2.0)\n",
            "Requirement already satisfied: cycler>=0.10 in /usr/local/lib/python3.10/dist-packages (from matplotlib!=3.6.1,>=3.1->seaborn) (0.12.1)\n",
            "Requirement already satisfied: fonttools>=4.22.0 in /usr/local/lib/python3.10/dist-packages (from matplotlib!=3.6.1,>=3.1->seaborn) (4.44.3)\n",
            "Requirement already satisfied: kiwisolver>=1.0.1 in /usr/local/lib/python3.10/dist-packages (from matplotlib!=3.6.1,>=3.1->seaborn) (1.4.5)\n",
            "Requirement already satisfied: packaging>=20.0 in /usr/local/lib/python3.10/dist-packages (from matplotlib!=3.6.1,>=3.1->seaborn) (23.2)\n",
            "Requirement already satisfied: pillow>=6.2.0 in /usr/local/lib/python3.10/dist-packages (from matplotlib!=3.6.1,>=3.1->seaborn) (9.4.0)\n",
            "Requirement already satisfied: pyparsing>=2.3.1 in /usr/local/lib/python3.10/dist-packages (from matplotlib!=3.6.1,>=3.1->seaborn) (3.1.1)\n",
            "Requirement already satisfied: python-dateutil>=2.7 in /usr/local/lib/python3.10/dist-packages (from matplotlib!=3.6.1,>=3.1->seaborn) (2.8.2)\n",
            "Requirement already satisfied: pytz>=2020.1 in /usr/local/lib/python3.10/dist-packages (from pandas>=0.25->seaborn) (2023.3.post1)\n",
            "Requirement already satisfied: six>=1.5 in /usr/local/lib/python3.10/dist-packages (from python-dateutil>=2.7->matplotlib!=3.6.1,>=3.1->seaborn) (1.16.0)\n"
          ]
        }
      ],
      "source": [
        "import pandas as pd\n",
        "import matplotlib.pyplot as plt\n",
        "import seaborn as sns\n",
        "from sklearn.model_selection import train_test_split\n",
        "from scipy import stats\n",
        "from sklearn.ensemble import RandomForestRegressor\n",
        "from sklearn.metrics import mean_squared_error\n",
        "from sklearn.ensemble import GradientBoostingRegressor\n",
        "from keras.models import Sequential\n",
        "from keras.layers import Dense\n",
        "from keras.metrics import MeanSquaredError\n",
        "import numpy as np\n",
        "from sklearn.inspection import partial_dependence\n",
        "from sklearn.svm import SVR\n",
        "from sklearn.preprocessing import StandardScaler\n",
        "from sklearn.naive_bayes import MultinomialNB\n",
        "from keras.models import Model\n",
        "from sklearn.preprocessing import LabelEncoder\n",
        "from sklearn.tree import DecisionTreeRegressor\n",
        "from sklearn.preprocessing import LabelEncoder\n",
        "from sklearn.metrics import roc_curve, auc\n",
        "!pip install nbconvert\n",
        "!pip install seaborn\n"
      ]
    },
    {
      "cell_type": "code",
      "source": [
        "# Read the CSV file\n",
        "# Load the data from the CSV file\n",
        "df = pd.read_csv('/content/data.csv')\n",
        "\n",
        "# Display the column names\n",
        "column_names = df.columns\n",
        "column_names\n"
      ],
      "metadata": {
        "colab": {
          "base_uri": "https://localhost:8080/"
        },
        "id": "bYvWAkBgABTy",
        "outputId": "0ca539eb-d98a-46fc-b1ff-a288d1aa7b6b"
      },
      "execution_count": 2,
      "outputs": [
        {
          "output_type": "execute_result",
          "data": {
            "text/plain": [
              "Index(['ID', 'air_time1', 'disp_index1', 'gmrt_in_air1', 'gmrt_on_paper1',\n",
              "       'max_x_extension1', 'max_y_extension1', 'mean_acc_in_air1',\n",
              "       'mean_acc_on_paper1', 'mean_gmrt1',\n",
              "       ...\n",
              "       'mean_jerk_in_air25', 'mean_jerk_on_paper25', 'mean_speed_in_air25',\n",
              "       'mean_speed_on_paper25', 'num_of_pendown25', 'paper_time25',\n",
              "       'pressure_mean25', 'pressure_var25', 'total_time25', 'class'],\n",
              "      dtype='object', length=452)"
            ]
          },
          "metadata": {},
          "execution_count": 2
        }
      ]
    },
    {
      "cell_type": "code",
      "source": [
        "missing_values = df.isnull().sum()\n",
        "print(\"Missing values per column:\\n\", missing_values)"
      ],
      "metadata": {
        "id": "hNqqURaTBQtw",
        "colab": {
          "base_uri": "https://localhost:8080/"
        },
        "outputId": "9b1e9342-af58-457c-f984-05406827fa75"
      },
      "execution_count": 6,
      "outputs": [
        {
          "output_type": "stream",
          "name": "stdout",
          "text": [
            "Missing values per column:\n",
            " ID                 0\n",
            "air_time1          0\n",
            "disp_index1        0\n",
            "gmrt_in_air1       0\n",
            "gmrt_on_paper1     0\n",
            "                  ..\n",
            "paper_time25       0\n",
            "pressure_mean25    0\n",
            "pressure_var25     0\n",
            "total_time25       0\n",
            "class              0\n",
            "Length: 452, dtype: int64\n"
          ]
        }
      ]
    },
    {
      "cell_type": "code",
      "source": [
        "print(\"Data types of each column:\\n\", df.dtypes)\n"
      ],
      "metadata": {
        "colab": {
          "base_uri": "https://localhost:8080/"
        },
        "id": "zTRliR6WzROl",
        "outputId": "5e890e3a-586b-483d-b30f-ca216998510c"
      },
      "execution_count": 9,
      "outputs": [
        {
          "output_type": "stream",
          "name": "stdout",
          "text": [
            "Data types of each column:\n",
            " ID                   object\n",
            "air_time1             int64\n",
            "disp_index1         float64\n",
            "gmrt_in_air1        float64\n",
            "gmrt_on_paper1      float64\n",
            "                     ...   \n",
            "paper_time25          int64\n",
            "pressure_mean25     float64\n",
            "pressure_var25      float64\n",
            "total_time25          int64\n",
            "class              category\n",
            "Length: 452, dtype: object\n"
          ]
        }
      ]
    },
    {
      "cell_type": "code",
      "source": [
        "\n",
        "# Identify the string columns\n",
        "string_columns = dtypes[dtypes == 'object'].index\n",
        "# Display the string columns\n",
        "print(\"String Columns:\", string_columns)"
      ],
      "metadata": {
        "id": "tViRlfy8pBke",
        "colab": {
          "base_uri": "https://localhost:8080/"
        },
        "outputId": "93ffe4b9-5d11-42c7-a20b-2aaae2c53f23"
      },
      "execution_count": 11,
      "outputs": [
        {
          "output_type": "stream",
          "name": "stdout",
          "text": [
            "String Columns: Index(['ID'], dtype='object')\n"
          ]
        }
      ]
    },
    {
      "cell_type": "code",
      "source": [
        "import pandas as pd\n",
        "\n",
        "# Assuming 'df' is DataFrame and 'string_columns' is the list of string columns\n",
        "for column in string_columns:\n",
        "    df[column] = pd.to_numeric(df[column], errors='coerce')\n",
        "\n",
        "# Optional: Check for missing values after conversion\n",
        "missing_values_post_conversion = df[string_columns].isnull().sum()\n",
        "print(\"Missing values after conversion:\\n\", missing_values_post_conversion)\n",
        "\n",
        "# Optional: Confirm new data types\n",
        "print(\"New data types:\\n\", df[string_columns].dtypes)\n"
      ],
      "metadata": {
        "id": "_dm7ISmZpEMH",
        "colab": {
          "base_uri": "https://localhost:8080/"
        },
        "outputId": "e4f47928-3cfe-4c63-fe7a-7bb4f784b70a"
      },
      "execution_count": 12,
      "outputs": [
        {
          "output_type": "stream",
          "name": "stdout",
          "text": [
            "Missing values after conversion:\n",
            " ID    174\n",
            "dtype: int64\n",
            "New data types:\n",
            " ID    float64\n",
            "dtype: object\n"
          ]
        }
      ]
    },
    {
      "cell_type": "code",
      "source": [
        "# Assuming 'df' is DataFrame and 'ID' is the column of interest\n",
        "\n",
        "# First, revert the 'ID' column back to its original string type\n",
        "df['ID'] = df['ID'].astype('object')\n",
        "\n",
        "# Then, create a mask for non-numeric values\n",
        "mask = pd.to_numeric(df['ID'], errors='coerce').isna()\n",
        "\n",
        "# Display a sample of non-numeric values from the 'ID' column\n",
        "non_numeric_values = df['ID'][mask]\n",
        "print(\"Sample of non-numeric values in the 'ID' column:\\n\", non_numeric_values.head())\n"
      ],
      "metadata": {
        "colab": {
          "base_uri": "https://localhost:8080/"
        },
        "id": "0qMX08861rPE",
        "outputId": "5b6d429d-7b7f-4ff9-e791-01b6650d01cb"
      },
      "execution_count": 13,
      "outputs": [
        {
          "output_type": "stream",
          "name": "stdout",
          "text": [
            "Sample of non-numeric values in the 'ID' column:\n",
            " 0    NaN\n",
            "1    NaN\n",
            "2    NaN\n",
            "3    NaN\n",
            "4    NaN\n",
            "Name: ID, dtype: object\n"
          ]
        }
      ]
    },
    {
      "cell_type": "code",
      "source": [
        "# Fill with a placeholder value\n",
        "df['ID'].fillna('missing', inplace=True)\n",
        "\n",
        "# Fill with forward fill\n",
        "df['ID'].fillna(method='ffill', inplace=True)\n",
        "\n",
        "# Fill with backward fill\n",
        "df['ID'].fillna(method='bfill', inplace=True)\n",
        "\n",
        "# Remove rows with missing ID values\n",
        "df.dropna(subset=['ID'], inplace=True)\n",
        "\n",
        "# Create new unique IDs for missing values\n",
        "missing_mask = df['ID'].isna()\n",
        "df.loc[missing_mask, 'ID'] = range(1, missing_mask.sum() + 1)\n"
      ],
      "metadata": {
        "id": "XFa6YEcz2plv"
      },
      "execution_count": 15,
      "outputs": []
    },
    {
      "cell_type": "code",
      "source": [
        "missing_values = df.isnull().sum()\n",
        "print(\"Missing values per column:\\n\", missing_values)"
      ],
      "metadata": {
        "colab": {
          "base_uri": "https://localhost:8080/"
        },
        "id": "u6HUJq262wNs",
        "outputId": "46544096-110a-47e4-c468-3f7eb39b8ca0"
      },
      "execution_count": 16,
      "outputs": [
        {
          "output_type": "stream",
          "name": "stdout",
          "text": [
            "Missing values per column:\n",
            " ID                 0\n",
            "air_time1          0\n",
            "disp_index1        0\n",
            "gmrt_in_air1       0\n",
            "gmrt_on_paper1     0\n",
            "                  ..\n",
            "paper_time25       0\n",
            "pressure_mean25    0\n",
            "pressure_var25     0\n",
            "total_time25       0\n",
            "class              0\n",
            "Length: 452, dtype: int64\n"
          ]
        }
      ]
    },
    {
      "cell_type": "code",
      "source": [
        "# Boxplot of the mean acceleration in the air for healthy and Alzheimer's disease patients\n",
        "sns.boxplot(\n",
        "    x = 'class',\n",
        "    y = 'mean_acc_in_air1',\n",
        "    showmeans=True,\n",
        "    data=df\n",
        ")\n",
        "plt.show()\n",
        "# Set the figure size\n",
        "plt.figure(figsize=(6, 4))\n"
      ],
      "metadata": {
        "colab": {
          "base_uri": "https://localhost:8080/",
          "height": 485
        },
        "id": "FC0L8QwxVYJq",
        "outputId": "7a09ad5f-fd05-4365-84f1-b23bdb54126f"
      },
      "execution_count": 18,
      "outputs": [
        {
          "output_type": "display_data",
          "data": {
            "text/plain": [
              "<Figure size 640x480 with 1 Axes>"
            ],
            "image/png": "[encoded data removed]"
          },
          "metadata": {}
        },
        {
          "output_type": "execute_result",
          "data": {
            "text/plain": [
              "<Figure size 600x400 with 0 Axes>"
            ]
          },
          "metadata": {},
          "execution_count": 18
        },
        {
          "output_type": "display_data",
          "data": {
            "text/plain": [
              "<Figure size 600x400 with 0 Axes>"
            ]
          },
          "metadata": {}
        }
      ]
    },
    {
      "cell_type": "code",
      "source": [
        "# Create a new feature that is the difference between the mean acceleration in the air and the mean acceleration on paper\n",
        "df['delta_mean_acc'] = df['mean_acc_in_air1'] - df['mean_acc_on_paper1']\n",
        "\n",
        "# Plot the delta mean acceleration for healthy and Alzheimer's disease patients\n",
        "import seaborn as sns\n",
        "import matplotlib.pyplot as plt\n",
        "\n",
        "sns.boxplot(\n",
        "    x='class',\n",
        "    y='delta_mean_acc',\n",
        "    showmeans=True,\n",
        "    data=df\n",
        ")\n",
        "plt.title('Delta Mean Acceleration by Class')\n",
        "plt.show()\n"
      ],
      "metadata": {
        "id": "VNee9-skBVag",
        "colab": {
          "base_uri": "https://localhost:8080/",
          "height": 472
        },
        "outputId": "3afb334d-9e9f-454b-fcce-57ab6b03c007"
      },
      "execution_count": 20,
      "outputs": [
        {
          "output_type": "display_data",
          "data": {
            "text/plain": [
              "<Figure size 640x480 with 1 Axes>"
            ],
            "image/png": "[encoded data removed]"
          },
          "metadata": {}
        }
      ]
    },
    {
      "cell_type": "code",
      "source": [
        "# Calculate the correlation between the target variable and other variables\n",
        "correlation = df.corr()\n",
        "\n",
        "# Print the correlation matrix\n",
        "print(correlation)"
      ],
      "metadata": {
        "colab": {
          "base_uri": "https://localhost:8080/"
        },
        "id": "BCj1As-Cqz0E",
        "outputId": "89f38d91-ccf6-4851-c03e-0be2cb22cfd2"
      },
      "execution_count": 21,
      "outputs": [
        {
          "output_type": "stream",
          "name": "stdout",
          "text": [
            "                  air_time1  disp_index1  gmrt_in_air1  gmrt_on_paper1  \\\n",
            "air_time1          1.000000     0.361259     -0.232732       -0.207819   \n",
            "disp_index1        0.361259     1.000000     -0.246372       -0.385838   \n",
            "gmrt_in_air1      -0.232732    -0.246372      1.000000        0.587802   \n",
            "gmrt_on_paper1    -0.207819    -0.385838      0.587802        1.000000   \n",
            "max_x_extension1   0.225954     0.127803      0.133476        0.245255   \n",
            "...                     ...          ...           ...             ...   \n",
            "paper_time25       0.110482     0.153675     -0.170229       -0.076708   \n",
            "pressure_mean25   -0.041226    -0.111902      0.088930        0.113275   \n",
            "pressure_var25     0.091019     0.066591     -0.119840       -0.045748   \n",
            "total_time25       0.018695     0.097970     -0.084335       -0.093643   \n",
            "delta_mean_acc     0.146427    -0.091131      0.274306        0.151543   \n",
            "\n",
            "                  max_x_extension1  max_y_extension1  mean_acc_in_air1  \\\n",
            "air_time1                 0.225954          0.014668          0.119806   \n",
            "disp_index1               0.127803          0.605181         -0.136236   \n",
            "gmrt_in_air1              0.133476          0.206822          0.342540   \n",
            "gmrt_on_paper1            0.245255          0.203036          0.294892   \n",
            "max_x_extension1          1.000000          0.138003          0.141866   \n",
            "...                            ...               ...               ...   \n",
            "paper_time25             -0.026867          0.015182         -0.096416   \n",
            "pressure_mean25          -0.043523          0.060988          0.027171   \n",
            "pressure_var25            0.074755         -0.099829          0.001428   \n",
            "total_time25              0.054187         -0.002383         -0.031624   \n",
            "delta_mean_acc            0.103632          0.028878          0.985718   \n",
            "\n",
            "                  mean_acc_on_paper1  mean_gmrt1  mean_jerk_in_air1  ...  \\\n",
            "air_time1                  -0.128735   -0.248715           0.136462  ...   \n",
            "disp_index1                -0.283894   -0.333046          -0.116714  ...   \n",
            "gmrt_in_air1                0.455927    0.940325           0.283365  ...   \n",
            "gmrt_on_paper1              0.875478    0.828012           0.252080  ...   \n",
            "max_x_extension1            0.245768    0.195668           0.137995  ...   \n",
            "...                              ...         ...                ...  ...   \n",
            "paper_time25               -0.045188   -0.150248          -0.090268  ...   \n",
            "pressure_mean25             0.069150    0.109281           0.012477  ...   \n",
            "pressure_var25             -0.002497   -0.102302          -0.002656  ...   \n",
            "total_time25               -0.060157   -0.097839          -0.031930  ...   \n",
            "delta_mean_acc              0.109614    0.253859           0.981415  ...   \n",
            "\n",
            "                  mean_jerk_in_air25  mean_jerk_on_paper25  \\\n",
            "air_time1                  -0.068343             -0.117830   \n",
            "disp_index1                -0.135669              0.038488   \n",
            "gmrt_in_air1                0.187074              0.023682   \n",
            "gmrt_on_paper1              0.149880             -0.121669   \n",
            "max_x_extension1           -0.031154             -0.019104   \n",
            "...                              ...                   ...   \n",
            "paper_time25               -0.509041             -0.332458   \n",
            "pressure_mean25             0.436551              0.231458   \n",
            "pressure_var25             -0.473727              0.013114   \n",
            "total_time25               -0.131651             -0.173553   \n",
            "delta_mean_acc              0.069754              0.023525   \n",
            "\n",
            "                  mean_speed_in_air25  mean_speed_on_paper25  \\\n",
            "air_time1                   -0.109298              -0.088565   \n",
            "disp_index1                 -0.110590              -0.152034   \n",
            "gmrt_in_air1                 0.206675               0.127726   \n",
            "gmrt_on_paper1               0.160714               0.111510   \n",
            "max_x_extension1             0.005402               0.087668   \n",
            "...                               ...                    ...   \n",
            "paper_time25                -0.551218              -0.600186   \n",
            "pressure_mean25              0.430762               0.447979   \n",
            "pressure_var25              -0.428663              -0.359515   \n",
            "total_time25                -0.159280              -0.193496   \n",
            "delta_mean_acc               0.061724               0.080030   \n",
            "\n",
            "                  num_of_pendown25  paper_time25  pressure_mean25  \\\n",
            "air_time1                 0.023792      0.110482        -0.041226   \n",
            "disp_index1               0.039369      0.153675        -0.111902   \n",
            "gmrt_in_air1             -0.128569     -0.170229         0.088930   \n",
            "gmrt_on_paper1           -0.052636     -0.076708         0.113275   \n",
            "max_x_extension1          0.066281     -0.026867        -0.043523   \n",
            "...                            ...           ...              ...   \n",
            "paper_time25              0.538560      1.000000        -0.363841   \n",
            "pressure_mean25          -0.237773     -0.363841         1.000000   \n",
            "pressure_var25            0.565881      0.418078        -0.142470   \n",
            "total_time25              0.126791      0.245180        -0.093414   \n",
            "delta_mean_acc           -0.067587     -0.091775         0.015980   \n",
            "\n",
            "                  pressure_var25  total_time25  delta_mean_acc  \n",
            "air_time1               0.091019      0.018695        0.146427  \n",
            "disp_index1             0.066591      0.097970       -0.091131  \n",
            "gmrt_in_air1           -0.119840     -0.084335        0.274306  \n",
            "gmrt_on_paper1         -0.045748     -0.093643        0.151543  \n",
            "max_x_extension1        0.074755      0.054187        0.103632  \n",
            "...                          ...           ...             ...  \n",
            "paper_time25            0.418078      0.245180       -0.091775  \n",
            "pressure_mean25        -0.142470     -0.093414        0.015980  \n",
            "pressure_var25          1.000000      0.124291        0.001914  \n",
            "total_time25            0.124291      1.000000       -0.022159  \n",
            "delta_mean_acc          0.001914     -0.022159        1.000000  \n",
            "\n",
            "[451 rows x 451 columns]\n"
          ]
        },
        {
          "output_type": "stream",
          "name": "stderr",
          "text": [
            "<ipython-input-21-25171f33d2fa>:2: FutureWarning: The default value of numeric_only in DataFrame.corr is deprecated. In a future version, it will default to False. Select only valid columns or specify the value of numeric_only to silence this warning.\n",
            "  correlation = df.corr()\n"
          ]
        }
      ]
    },
    {
      "cell_type": "code",
      "source": [
        "# Split the data into training and testing sets\n",
        "X_train, X_test, y_train, y_test = train_test_split(df.drop('class', axis=1), df['class'], test_size=0.3, random_state=42)\n"
      ],
      "metadata": {
        "id": "_xMpCTmIcRWm"
      },
      "execution_count": 22,
      "outputs": []
    },
    {
      "cell_type": "code",
      "source": [
        "non_numeric_columns = X_train.select_dtypes(include=['object']).columns\n",
        "print(\"Non-numeric columns:\", non_numeric_columns)\n"
      ],
      "metadata": {
        "colab": {
          "base_uri": "https://localhost:8080/"
        },
        "id": "8rcibbyHcgJV",
        "outputId": "56138283-5321-439b-fc62-4d1408c3d62d"
      },
      "execution_count": 24,
      "outputs": [
        {
          "output_type": "stream",
          "name": "stdout",
          "text": [
            "Non-numeric columns: Index(['ID'], dtype='object')\n"
          ]
        }
      ]
    },
    {
      "cell_type": "code",
      "source": [
        "from sklearn.preprocessing import LabelEncoder\n",
        "\n",
        "for column in non_numeric_columns:\n",
        "    le = LabelEncoder()\n",
        "    X_train[column] = le.fit_transform(X_train[column].astype(str))\n",
        "    X_test[column] = le.transform(X_test[column].astype(str))\n"
      ],
      "metadata": {
        "id": "byzeunoI3_Wn"
      },
      "execution_count": 26,
      "outputs": []
    },
    {
      "cell_type": "code",
      "source": [
        "from sklearn.metrics import classification_report\n",
        "\n",
        "# Train the models on the selected features\n",
        "for model_name, model in models.items():\n",
        "    model.fit(X_train, y_train)\n",
        "\n",
        "# Evaluate the models on the test set\n",
        "for model_name, model in models.items():\n",
        "    y_pred = model.predict(X_test)\n",
        "    print(f'{model_name} classification report:')\n",
        "    print(classification_report(y_test, y_pred))"
      ],
      "metadata": {
        "colab": {
          "base_uri": "https://localhost:8080/"
        },
        "id": "SwkMmlqCgnaT",
        "outputId": "d0e7a60f-83ba-4cf0-fede-41d916194e5e"
      },
      "execution_count": 27,
      "outputs": [
        {
          "output_type": "stream",
          "name": "stderr",
          "text": [
            "/usr/local/lib/python3.10/dist-packages/sklearn/linear_model/_logistic.py:458: ConvergenceWarning: lbfgs failed to converge (status=1):\n",
            "STOP: TOTAL NO. of ITERATIONS REACHED LIMIT.\n",
            "\n",
            "Increase the number of iterations (max_iter) or scale the data as shown in:\n",
            "    https://scikit-learn.org/stable/modules/preprocessing.html\n",
            "Please also refer to the documentation for alternative solver options:\n",
            "    https://scikit-learn.org/stable/modules/linear_model.html#logistic-regression\n",
            "  n_iter_i = _check_optimize_result(\n"
          ]
        },
        {
          "output_type": "stream",
          "name": "stdout",
          "text": [
            "Logistic Regression classification report:\n",
            "              precision    recall  f1-score   support\n",
            "\n",
            "           H       0.83      0.86      0.84        28\n",
            "           P       0.83      0.80      0.82        25\n",
            "\n",
            "    accuracy                           0.83        53\n",
            "   macro avg       0.83      0.83      0.83        53\n",
            "weighted avg       0.83      0.83      0.83        53\n",
            "\n",
            "Random Forest Classifier classification report:\n",
            "              precision    recall  f1-score   support\n",
            "\n",
            "           H       0.89      0.86      0.87        28\n",
            "           P       0.85      0.88      0.86        25\n",
            "\n",
            "    accuracy                           0.87        53\n",
            "   macro avg       0.87      0.87      0.87        53\n",
            "weighted avg       0.87      0.87      0.87        53\n",
            "\n",
            "Decision Tree Classifier classification report:\n",
            "              precision    recall  f1-score   support\n",
            "\n",
            "           H       0.82      0.64      0.72        28\n",
            "           P       0.68      0.84      0.75        25\n",
            "\n",
            "    accuracy                           0.74        53\n",
            "   macro avg       0.75      0.74      0.74        53\n",
            "weighted avg       0.75      0.74      0.73        53\n",
            "\n",
            "K-Nearest Neighbors Classifier classification report:\n",
            "              precision    recall  f1-score   support\n",
            "\n",
            "           H       0.74      0.93      0.83        28\n",
            "           P       0.89      0.64      0.74        25\n",
            "\n",
            "    accuracy                           0.79        53\n",
            "   macro avg       0.82      0.78      0.78        53\n",
            "weighted avg       0.81      0.79      0.79        53\n",
            "\n"
          ]
        }
      ]
    },
    {
      "cell_type": "code",
      "source": [
        "from sklearn.metrics import classification_report\n",
        "\n",
        "# Assuming you have already trained models and have predictions\n",
        "classification_reports = []\n",
        "for model_name, model in models.items():\n",
        "    y_pred = model.predict(X_test)\n",
        "    report = classification_report(y_test, y_pred, output_dict=True)\n",
        "    classification_reports.append({model_name: report})\n"
      ],
      "metadata": {
        "id": "97OzyxvtkIaR"
      },
      "execution_count": 29,
      "outputs": []
    },
    {
      "cell_type": "code",
      "source": [
        "import matplotlib.pyplot as plt\n",
        "from sklearn.metrics import classification_report\n",
        "\n",
        "# Train the models on the selected features\n",
        "for model_name, model in models.items():\n",
        "    model.fit(X_train, y_train)\n",
        "\n",
        "# Evaluate the models on the test set\n",
        "classification_reports = []\n",
        "for model_name, model in models.items():\n",
        "    y_pred = model.predict(X_test)\n",
        "    classification_report_dict = classification_report(y_test, y_pred, output_dict=True)\n",
        "    classification_reports.append(classification_report_dict)\n",
        "\n",
        "# Get the model names from the classification reports\n",
        "model_names = []\n",
        "for model_report in classification_reports:\n",
        "    model_names.append(list(model_report.keys())[0])\n",
        "\n",
        "# Get the performance metrics\n",
        "precisions = []\n",
        "recalls = []\n",
        "f1_scores = []\n",
        "accuracies = []\n",
        "\n",
        "for model_report in classification_reports:\n",
        "    precisions.append(model_report['weighted avg']['precision'])\n",
        "    recalls.append(model_report['weighted avg']['recall'])\n",
        "    f1_scores.append(model_report['weighted avg']['f1-score'])\n",
        "    accuracies.append(model_report['accuracy'])\n",
        "\n",
        "# Create a bar chart of the model performance metrics\n",
        "plt.figure(figsize=(10, 6))\n",
        "\n",
        "plt.bar(model_names, precisions, label='Precision')\n",
        "plt.bar(model_names, recalls, label='Recall')\n",
        "plt.bar(model_names, f1_scores, label='F1-score')\n",
        "plt.bar(model_names, accuracies, label='Accuracy')\n",
        "\n",
        "plt.xlabel('Model')\n",
        "plt.ylabel('Performance Metric')\n",
        "plt.title('Model Performance Comparison')\n",
        "plt.legend()\n",
        "\n",
        "plt.show()\n"
      ],
      "metadata": {
        "colab": {
          "base_uri": "https://localhost:8080/",
          "height": 707
        },
        "id": "O7lA2nkfkoOn",
        "outputId": "ee3b329e-4f6f-414d-d2e1-13df877f4e3d"
      },
      "execution_count": 30,
      "outputs": [
        {
          "output_type": "stream",
          "name": "stderr",
          "text": [
            "/usr/local/lib/python3.10/dist-packages/sklearn/linear_model/_logistic.py:458: ConvergenceWarning: lbfgs failed to converge (status=1):\n",
            "STOP: TOTAL NO. of ITERATIONS REACHED LIMIT.\n",
            "\n",
            "Increase the number of iterations (max_iter) or scale the data as shown in:\n",
            "    https://scikit-learn.org/stable/modules/preprocessing.html\n",
            "Please also refer to the documentation for alternative solver options:\n",
            "    https://scikit-learn.org/stable/modules/linear_model.html#logistic-regression\n",
            "  n_iter_i = _check_optimize_result(\n"
          ]
        },
        {
          "output_type": "display_data",
          "data": {
            "text/plain": [
              "<Figure size 1000x600 with 1 Axes>"
            ],
            "image/png": "[encoded data removed]"
          },
          "metadata": {}
        }
      ]
    },
    {
      "cell_type": "code",
      "source": [
        "import matplotlib.pyplot as plt\n",
        "from sklearn.metrics import classification_report\n",
        "\n",
        "# Train the models on the selected features\n",
        "for model_name, model in models.items():\n",
        "    model.fit(X_train, y_train)\n",
        "\n",
        "# Evaluate the models on the test set\n",
        "classification_reports = []\n",
        "for model_name, model in models.items():\n",
        "    y_pred = model.predict(X_test)\n",
        "    classification_report_dict = classification_report(y_test, y_pred, output_dict=True)\n",
        "    classification_reports.append(classification_report_dict)\n",
        "\n",
        "# Get the model names from the classification reports\n",
        "model_names = []\n",
        "for model_report in classification_reports:\n",
        "    model_names.append(list(model_report.keys())[0])\n",
        "\n",
        "# Get the performance metrics\n",
        "precisions = []\n",
        "recalls = []\n",
        "f1_scores = []\n",
        "accuracies = []\n",
        "\n",
        "for model_report in classification_reports:\n",
        "    precisions.append(model_report['weighted avg']['precision'])\n",
        "    recalls.append(model_report['weighted avg']['recall'])\n",
        "    f1_scores.append(model_report['weighted avg']['f1-score'])\n",
        "    accuracies.append(model_report['accuracy'])\n",
        "\n",
        "# Create a figure with four subplots\n",
        "fig, axes = plt.subplots(nrows=4, ncols=1, sharex=True)\n",
        "\n",
        "# Plot the precision scores on the first subplot\n",
        "axes[0].bar(model_names, precisions, label='Precision')\n",
        "axes[0].set_title('Precision')\n",
        "\n",
        "# Plot the recall scores on the second subplot\n",
        "axes[1].bar(model_names, recalls, label='Recall')\n",
        "axes[1].set_title('Recall')\n",
        "\n",
        "# Plot the F1-scores on the third subplot\n",
        "axes[2].bar(model_names, f1_scores, label='F1-score')\n",
        "axes[2].set_title('F1-score')\n",
        "\n",
        "# Plot the accuracy scores on the fourth subplot\n",
        "axes[3].bar(model_names, accuracies, label='Accuracy')\n",
        "axes[3].set_title('Accuracy')\n",
        "\n",
        "# Set the x-axis label for all subplots\n",
        "fig.supxlabel('Model')\n",
        "\n",
        "\n",
        "# Show the figure\n",
        "plt.show()\n"
      ],
      "metadata": {
        "colab": {
          "base_uri": "https://localhost:8080/",
          "height": 619
        },
        "id": "NgXUqknMlV58",
        "outputId": "09767ebe-cf58-4f4c-b026-5593481e527b"
      },
      "execution_count": 31,
      "outputs": [
        {
          "output_type": "stream",
          "name": "stderr",
          "text": [
            "/usr/local/lib/python3.10/dist-packages/sklearn/linear_model/_logistic.py:458: ConvergenceWarning: lbfgs failed to converge (status=1):\n",
            "STOP: TOTAL NO. of ITERATIONS REACHED LIMIT.\n",
            "\n",
            "Increase the number of iterations (max_iter) or scale the data as shown in:\n",
            "    https://scikit-learn.org/stable/modules/preprocessing.html\n",
            "Please also refer to the documentation for alternative solver options:\n",
            "    https://scikit-learn.org/stable/modules/linear_model.html#logistic-regression\n",
            "  n_iter_i = _check_optimize_result(\n"
          ]
        },
        {
          "output_type": "display_data",
          "data": {
            "text/plain": [
              "<Figure size 640x480 with 4 Axes>"
            ],
            "image/png": "[encoded data removed]"
          },
          "metadata": {}
        }
      ]
    },
    {
      "cell_type": "code",
      "source": [
        "fpr, tpr, thresholds = roc_curve(y_test, y_pred_proba, pos_label=\"P\")\n"
      ],
      "metadata": {
        "id": "-YxYhA14mCd6"
      },
      "execution_count": null,
      "outputs": []
    },
    {
      "cell_type": "code",
      "source": [
        "import matplotlib.pyplot as plt\n",
        "from sklearn.metrics import roc_curve, auc\n",
        "\n",
        "# Calculate the ROC AUC scores for the models and store fpr, tpr for each model\n",
        "roc_auc_scores = []\n",
        "model_names = []\n",
        "fpr_tpr_list = []  # To store fpr and tpr for each model\n",
        "\n",
        "for model_name, model in models.items():\n",
        "    model_names.append(model_name)\n",
        "    y_pred_proba = model.predict_proba(X_test)[:, 1]\n",
        "    fpr, tpr, thresholds = roc_curve(y_test, y_pred_proba, pos_label=\"P\")\n",
        "    roc_auc_score = auc(fpr, tpr)\n",
        "    roc_auc_scores.append(roc_auc_score)\n",
        "    fpr_tpr_list.append((fpr, tpr))\n",
        "\n",
        "# Create a figure for the ROC AUC curve\n",
        "plt.figure(figsize=(6, 4))\n",
        "\n",
        "# Plot the ROC AUC curves for the models\n",
        "for i in range(len(model_names)):\n",
        "    fpr, tpr = fpr_tpr_list[i]  # Get the fpr and tpr for each model\n",
        "    plt.plot(fpr, tpr, label=f'{model_names[i]} (AUC: {roc_auc_scores[i]:.2f})')\n",
        "\n",
        "# Add a title and legend to the figure\n",
        "plt.title('ROC AUC Curve Comparison')\n",
        "plt.xlabel('False Positive Rate')\n",
        "plt.ylabel('True Positive Rate')\n",
        "plt.legend()\n",
        "\n",
        "# Show the figure\n",
        "plt.show()\n"
      ],
      "metadata": {
        "colab": {
          "base_uri": "https://localhost:8080/",
          "height": 410
        },
        "id": "34ZWyU2Fmlkb",
        "outputId": "1eb563b7-1b39-4c33-ca6c-cfd9473b570c"
      },
      "execution_count": 34,
      "outputs": [
        {
          "output_type": "display_data",
          "data": {
            "text/plain": [
              "<Figure size 600x400 with 1 Axes>"
            ],
            "image/png": "[encoded data removed]"
          },
          "metadata": {}
        }
      ]
    },
    {
      "cell_type": "code",
      "source": [
        "!jupyter nbconvert --to html /content/Cognitive.ipynb"
      ],
      "metadata": {
        "id": "s1fYuLDPQmvX",
        "outputId": "e87bfb30-5a2d-479c-8447-fa8c8170fddf",
        "colab": {
          "base_uri": "https://localhost:8080/"
        }
      },
      "execution_count": null,
      "outputs": [
        {
          "output_type": "stream",
          "name": "stdout",
          "text": [
            "[NbConvertApp] Converting notebook /content/Cognitive.ipynb to html\n",
            "[NbConvertApp] Writing 1753047 bytes to /content/Cognitive.html\n"
          ]
        }
      ]
    }
  ]
}